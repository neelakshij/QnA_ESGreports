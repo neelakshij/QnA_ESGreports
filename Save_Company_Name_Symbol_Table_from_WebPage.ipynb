{
 "cells": [
  {
   "cell_type": "code",
   "execution_count": 1,
   "id": "21755cbd",
   "metadata": {},
   "outputs": [],
   "source": [
    "# scrap the table from webpage\n",
    "import requests\n",
    "from bs4 import BeautifulSoup\n",
    "import pandas as pd\n",
    "import json"
   ]
  },
  {
   "cell_type": "code",
   "execution_count": 2,
   "id": "76d2be3a",
   "metadata": {},
   "outputs": [],
   "source": [
    "company_name, company_symbol = [], []"
   ]
  },
  {
   "cell_type": "code",
   "execution_count": 3,
   "id": "1426e951",
   "metadata": {},
   "outputs": [
    {
     "name": "stdout",
     "output_type": "stream",
     "text": [
      "200\n"
     ]
    }
   ],
   "source": [
    "# check response code is 200 to confirm whether request is successful.\n",
    "url = \"https://dailypik.com/top-50-companies-sp-500/?expand_article=1\"\n",
    "response = requests.get(url)\n",
    "print(response.status_code) # check if it is 200"
   ]
  },
  {
   "cell_type": "code",
   "execution_count": 4,
   "id": "3a891bc0",
   "metadata": {},
   "outputs": [],
   "source": [
    "# Building the Parser Using Beautiful Soup\n",
    "soup = BeautifulSoup(response.text, 'html.parser')\n",
    "table = soup.find('table')\n",
    "# acess rows\n",
    "for tx in table.find_all('tbody'):\n",
    "    rows = tx.find_all('tr')"
   ]
  },
  {
   "cell_type": "code",
   "execution_count": 6,
   "id": "3046b5ae",
   "metadata": {},
   "outputs": [
    {
     "data": {
      "text/plain": [
       "[<tr><td>Apple Inc.</td><td>AAPL</td></tr>,\n",
       " <tr><td>Microsoft Corp.</td><td>MSFT</td></tr>,\n",
       " <tr><td>Amazon.com Inc.</td><td>AMZN</td></tr>]"
      ]
     },
     "execution_count": 6,
     "metadata": {},
     "output_type": "execute_result"
    }
   ],
   "source": [
    "rows[0:3]"
   ]
  },
  {
   "cell_type": "code",
   "execution_count": 7,
   "id": "10d0d414",
   "metadata": {},
   "outputs": [],
   "source": [
    "# save company names and respective symbols\n",
    "for row in rows:\n",
    "    name = row.find_all('td')[0].text\n",
    "    symbol = row.find_all('td')[1].text\n",
    "    company_name.append(name)\n",
    "    company_symbol.append(symbol)"
   ]
  },
  {
   "cell_type": "code",
   "execution_count": 8,
   "id": "e76a81c2",
   "metadata": {},
   "outputs": [
    {
     "data": {
      "text/html": [
       "<div>\n",
       "<style scoped>\n",
       "    .dataframe tbody tr th:only-of-type {\n",
       "        vertical-align: middle;\n",
       "    }\n",
       "\n",
       "    .dataframe tbody tr th {\n",
       "        vertical-align: top;\n",
       "    }\n",
       "\n",
       "    .dataframe thead th {\n",
       "        text-align: right;\n",
       "    }\n",
       "</style>\n",
       "<table border=\"1\" class=\"dataframe\">\n",
       "  <thead>\n",
       "    <tr style=\"text-align: right;\">\n",
       "      <th></th>\n",
       "      <th>Name</th>\n",
       "      <th>Symbol</th>\n",
       "    </tr>\n",
       "  </thead>\n",
       "  <tbody>\n",
       "    <tr>\n",
       "      <th>0</th>\n",
       "      <td>Apple Inc.</td>\n",
       "      <td>AAPL</td>\n",
       "    </tr>\n",
       "    <tr>\n",
       "      <th>1</th>\n",
       "      <td>Microsoft Corp.</td>\n",
       "      <td>MSFT</td>\n",
       "    </tr>\n",
       "    <tr>\n",
       "      <th>2</th>\n",
       "      <td>Amazon.com Inc.</td>\n",
       "      <td>AMZN</td>\n",
       "    </tr>\n",
       "    <tr>\n",
       "      <th>3</th>\n",
       "      <td>NVIDIA Corp.</td>\n",
       "      <td>NVDA</td>\n",
       "    </tr>\n",
       "    <tr>\n",
       "      <th>4</th>\n",
       "      <td>Alphabet Inc. Class A</td>\n",
       "      <td>GOOGL</td>\n",
       "    </tr>\n",
       "  </tbody>\n",
       "</table>\n",
       "</div>"
      ],
      "text/plain": [
       "                    Name Symbol\n",
       "0             Apple Inc.   AAPL\n",
       "1        Microsoft Corp.   MSFT\n",
       "2        Amazon.com Inc.   AMZN\n",
       "3           NVIDIA Corp.   NVDA\n",
       "4  Alphabet Inc. Class A  GOOGL"
      ]
     },
     "execution_count": 8,
     "metadata": {},
     "output_type": "execute_result"
    }
   ],
   "source": [
    "# construct dataframe and save    \n",
    "df = pd.DataFrame({'Name': company_name, 'Symbol': company_symbol})\n",
    "#df.to_csv('SP50List.csv')\n",
    "df.head()"
   ]
  },
  {
   "cell_type": "code",
   "execution_count": 9,
   "id": "2e7dc2f5",
   "metadata": {},
   "outputs": [
    {
     "data": {
      "text/plain": [
       "(49, 2)"
      ]
     },
     "execution_count": 9,
     "metadata": {},
     "output_type": "execute_result"
    }
   ],
   "source": [
    "df.shape"
   ]
  },
  {
   "cell_type": "code",
   "execution_count": null,
   "id": "2bbc8e28",
   "metadata": {},
   "outputs": [],
   "source": [
    "# OR save tabular data to json file\n",
    "SnP50 = []\n",
    "SnP50.append([{'Name': company_name,\n",
    "              'Symbol': company_symbol}])\n",
    "\n",
    "with open('SnP50_list_json', 'w') as json_file:\n",
    "    json.dump(SnP50, json_file, indent=2)"
   ]
  }
 ],
 "metadata": {
  "kernelspec": {
   "display_name": "Python 3 (ipykernel)",
   "language": "python",
   "name": "python3"
  },
  "language_info": {
   "codemirror_mode": {
    "name": "ipython",
    "version": 3
   },
   "file_extension": ".py",
   "mimetype": "text/x-python",
   "name": "python",
   "nbconvert_exporter": "python",
   "pygments_lexer": "ipython3",
   "version": "3.10.0"
  }
 },
 "nbformat": 4,
 "nbformat_minor": 5
}
