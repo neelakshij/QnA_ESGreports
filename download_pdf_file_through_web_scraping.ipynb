{
 "cells": [
  {
   "cell_type": "code",
   "execution_count": 1,
   "id": "be5fdcc2",
   "metadata": {},
   "outputs": [],
   "source": [
    "import requests\n",
    "from bs4 import BeautifulSoup\n",
    "import pandas as pd"
   ]
  },
  {
   "cell_type": "code",
   "execution_count": 5,
   "id": "14729ad7",
   "metadata": {},
   "outputs": [
    {
     "name": "stdout",
     "output_type": "stream",
     "text": [
      "(50, 2)\n"
     ]
    },
    {
     "data": {
      "text/html": [
       "<div>\n",
       "<style scoped>\n",
       "    .dataframe tbody tr th:only-of-type {\n",
       "        vertical-align: middle;\n",
       "    }\n",
       "\n",
       "    .dataframe tbody tr th {\n",
       "        vertical-align: top;\n",
       "    }\n",
       "\n",
       "    .dataframe thead th {\n",
       "        text-align: right;\n",
       "    }\n",
       "</style>\n",
       "<table border=\"1\" class=\"dataframe\">\n",
       "  <thead>\n",
       "    <tr style=\"text-align: right;\">\n",
       "      <th></th>\n",
       "      <th>Name</th>\n",
       "      <th>Symbol</th>\n",
       "    </tr>\n",
       "  </thead>\n",
       "  <tbody>\n",
       "    <tr>\n",
       "      <th>0</th>\n",
       "      <td>Apple Inc.</td>\n",
       "      <td>AAPL</td>\n",
       "    </tr>\n",
       "    <tr>\n",
       "      <th>1</th>\n",
       "      <td>Microsoft Corp.</td>\n",
       "      <td>MSFT</td>\n",
       "    </tr>\n",
       "    <tr>\n",
       "      <th>2</th>\n",
       "      <td>Amazon.com Inc.</td>\n",
       "      <td>AMZN</td>\n",
       "    </tr>\n",
       "    <tr>\n",
       "      <th>3</th>\n",
       "      <td>NVIDIA Corp.</td>\n",
       "      <td>NVDA</td>\n",
       "    </tr>\n",
       "    <tr>\n",
       "      <th>4</th>\n",
       "      <td>Alphabet Inc. Class A</td>\n",
       "      <td>GOOGL</td>\n",
       "    </tr>\n",
       "  </tbody>\n",
       "</table>\n",
       "</div>"
      ],
      "text/plain": [
       "                    Name Symbol\n",
       "0             Apple Inc.   AAPL\n",
       "1        Microsoft Corp.   MSFT\n",
       "2        Amazon.com Inc.   AMZN\n",
       "3           NVIDIA Corp.   NVDA\n",
       "4  Alphabet Inc. Class A  GOOGL"
      ]
     },
     "execution_count": 5,
     "metadata": {},
     "output_type": "execute_result"
    }
   ],
   "source": [
    "# dataframe has 2 columns: 'Name' & 'Symbol'\n",
    "df = pd.read_csv('SP50List.csv',index_col=0)\n",
    "print(df.shape)\n",
    "df.head()"
   ]
  },
  {
   "cell_type": "code",
   "execution_count": 9,
   "id": "f41bcd1e",
   "metadata": {},
   "outputs": [
    {
     "name": "stdout",
     "output_type": "stream",
     "text": [
      "Apple Inc. & its symbol is  AAPL\n"
     ]
    }
   ],
   "source": [
    "company_name = df['Name']\n",
    "company_symbol = df['Symbol']\n",
    "print(company_name[0],\"& its symbol is \", company_symbol[0])"
   ]
  },
  {
   "cell_type": "code",
   "execution_count": 10,
   "id": "ccacc9d7",
   "metadata": {},
   "outputs": [
    {
     "name": "stdout",
     "output_type": "stream",
     "text": [
      "[<form action=\"/Companies\" method=\"get\">\n",
      "<input name=\"search\" placeholder=\"Company or Ticker Symbol\" type=\"text\"/>\n",
      "<input type=\"submit\" value=\"Search\"/>\n",
      "</form>, <form action=\"/Companies\">\n",
      "<input name=\"search\" placeholder=\"Company or Ticker Symbol\" type=\"text\"/>\n",
      "<input type=\"submit\" value=\"Search\"/>\n",
      "</form>, <form action=\"/Companies\" method=\"get\">\n",
      "<span class=\"heading\">Search for a Report</span>\n",
      "<input name=\"search\" placeholder=\"Company Name or Ticker Symbol\" type=\"text\"/>\n",
      "<input type=\"submit\" value=\"Search\"/>\n",
      "</form>]\n"
     ]
    }
   ],
   "source": [
    "url = \"https://www.responsibilityreports.com\"\n",
    "page = requests.get(url).text\n",
    "soup = BeautifulSoup(page, 'html.parser')\n",
    "forms = soup.find_all('form')\n",
    "print(forms)"
   ]
  },
  {
   "cell_type": "code",
   "execution_count": 11,
   "id": "0d2147aa",
   "metadata": {},
   "outputs": [
    {
     "name": "stdout",
     "output_type": "stream",
     "text": [
      "200\n"
     ]
    }
   ],
   "source": [
    "payload = {'search': company_symbol[0]}\n",
    "r = requests.post('https://www.responsibilityreports.com/Companies', data=payload)\n",
    "print(r.status_code) # if 200, request is successful."
   ]
  },
  {
   "cell_type": "code",
   "execution_count": 12,
   "id": "9442ef5d",
   "metadata": {},
   "outputs": [
    {
     "data": {
      "text/plain": [
       "'/Company/apple-inc'"
      ]
     },
     "execution_count": 12,
     "metadata": {},
     "output_type": "execute_result"
    }
   ],
   "source": [
    "# get company name\n",
    "search_req = BeautifulSoup(r.text, 'html.parser')\n",
    "field_name = search_req.select_one('.companyName a')['href']\n",
    "field_name"
   ]
  },
  {
   "cell_type": "code",
   "execution_count": 15,
   "id": "4c00d369",
   "metadata": {},
   "outputs": [
    {
     "data": {
      "text/plain": [
       "<Response [200]>"
      ]
     },
     "execution_count": 15,
     "metadata": {},
     "output_type": "execute_result"
    }
   ],
   "source": [
    "# link associated to company is not with company name. Find respective url.\n",
    "url_with_comanyName = url + field_name\n",
    "req_withCompanyName = requests.post(url_with_comanyName)\n",
    "req_withCompanyName"
   ]
  },
  {
   "cell_type": "code",
   "execution_count": 16,
   "id": "ae2ce1a4",
   "metadata": {},
   "outputs": [
    {
     "data": {
      "text/plain": [
       "'/Click/2285'"
      ]
     },
     "execution_count": 16,
     "metadata": {},
     "output_type": "execute_result"
    }
   ],
   "source": [
    "search_req2 = BeautifulSoup(req_withCompanyName.text, 'html.parser')\n",
    "link_for_companySearch = search_req2.select_one('.view_btn a')['href']\n",
    "link_for_companySearch"
   ]
  },
  {
   "cell_type": "code",
   "execution_count": 17,
   "id": "86821889",
   "metadata": {},
   "outputs": [
    {
     "data": {
      "text/plain": [
       "'https://www.responsibilityreports.com/Click/2285'"
      ]
     },
     "execution_count": 17,
     "metadata": {},
     "output_type": "execute_result"
    }
   ],
   "source": [
    "report_url = url + link_for_companySearch\n",
    "report_url"
   ]
  },
  {
   "cell_type": "code",
   "execution_count": 18,
   "id": "2f5185c3",
   "metadata": {},
   "outputs": [
    {
     "data": {
      "text/plain": [
       "<Response [200]>"
      ]
     },
     "execution_count": 18,
     "metadata": {},
     "output_type": "execute_result"
    }
   ],
   "source": [
    "# confirm status code\n",
    "r = requests.get(report_url)  \n",
    "r"
   ]
  },
  {
   "cell_type": "code",
   "execution_count": 19,
   "id": "23ae963f",
   "metadata": {},
   "outputs": [],
   "source": [
    "year = '2022'\n",
    "file_name = year+'_'+company_symbol[0]\n",
    "with open(file_name+'.pdf', 'wb') as f:\n",
    "    f.write(r.content)"
   ]
  },
  {
   "cell_type": "code",
   "execution_count": null,
   "id": "f394bd47",
   "metadata": {},
   "outputs": [],
   "source": []
  }
 ],
 "metadata": {
  "kernelspec": {
   "display_name": "Python 3 (ipykernel)",
   "language": "python",
   "name": "python3"
  },
  "language_info": {
   "codemirror_mode": {
    "name": "ipython",
    "version": 3
   },
   "file_extension": ".py",
   "mimetype": "text/x-python",
   "name": "python",
   "nbconvert_exporter": "python",
   "pygments_lexer": "ipython3",
   "version": "3.10.0"
  }
 },
 "nbformat": 4,
 "nbformat_minor": 5
}
