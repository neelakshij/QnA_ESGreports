{
 "cells": [
  {
   "cell_type": "markdown",
   "id": "3b12061a-f9c5-494f-9f48-9cc1668855a5",
   "metadata": {},
   "source": [
    "# Experimenting sentence-transformers/all-MiniLM-L6-v2 embedding model\n",
    "\n",
    "### It ranked 40th on leaderboard, has 384 embedding dimension, & 41.95 score for retrieval task."
   ]
  },
  {
   "cell_type": "code",
   "execution_count": 1,
   "id": "b96bb8f2-4e2a-479b-90ff-8523cddc6066",
   "metadata": {},
   "outputs": [],
   "source": [
    "# import libraries\n",
    "import streamlit as st\n",
    "import os\n",
    "os.environ['TF_CPP_MIN_LOG_LEVEL'] = '3'\n",
    "import pandas as pd\n",
    "import vertexai\n",
    "import langchain\n",
    "from langchain.chains import RetrievalQA\n",
    "from langchain.embeddings import HuggingFaceEmbeddings\n",
    "from langchain.llms import VertexAI\n",
    "from langchain.document_loaders import PyPDFLoader\n",
    "from langchain.vectorstores import Chroma\n",
    "from langchain.prompts import PromptTemplate"
   ]
  },
  {
   "cell_type": "code",
   "execution_count": 2,
   "id": "4a901d38-76ac-4ff3-8c6f-658f1d6d0cd1",
   "metadata": {},
   "outputs": [],
   "source": [
    "# define LLM\n",
    "llm = VertexAI(\n",
    "    model_name=\"text-bison@001\",\n",
    "    max_output_tokens=500,\n",
    "    temperature=0,\n",
    "    top_p=0.8,\n",
    "    top_k=40,\n",
    "    verbose=True,\n",
    ")"
   ]
  },
  {
   "cell_type": "code",
   "execution_count": 3,
   "id": "8e6084ec-3eec-4896-bb6f-bef83f8d9d82",
   "metadata": {},
   "outputs": [],
   "source": [
    "# load file and split in pages\n",
    "def fileloader(pdffile):\n",
    "    loader = PyPDFLoader(pdffile)\n",
    "    pages = loader.load_and_split()\n",
    "    return pages\n",
    "pages = fileloader('./gcs-bucket/reports/2021/2021_AAPL.pdf')"
   ]
  },
  {
   "cell_type": "code",
   "execution_count": 4,
   "id": "1efe921c-c0c7-46d1-9a98-4add6405da84",
   "metadata": {},
   "outputs": [],
   "source": [
    "# create embeddings\n",
    "\n",
    "embeddings = HuggingFaceEmbeddings(model_name=\"sentence-transformers/all-MiniLM-L6-v2\")"
   ]
  },
  {
   "cell_type": "code",
   "execution_count": 6,
   "id": "2e4d45d8-4d71-4b58-9daf-dbcd30bcc2d7",
   "metadata": {},
   "outputs": [],
   "source": [
    "# indexing\n",
    "vectordb_singleDoc = None\n",
    "persist_directory = \"vectordb_singleDoc\"\n",
    "vectordb_singleDoc = Chroma.from_documents(documents=pages,\n",
    "                                 embedding=embeddings,\n",
    "                                 persist_directory=persist_directory)\n",
    "vectordb_singleDoc.persist()"
   ]
  },
  {
   "cell_type": "code",
   "execution_count": 7,
   "id": "41b4d26a-72eb-4b10-9d14-19cebea2b305",
   "metadata": {},
   "outputs": [],
   "source": [
    "qa = RetrievalQA.from_chain_type(llm=llm, \n",
    "                                 chain_type=\"stuff\", \n",
    "                                 retriever=vectordb_singleDoc.as_retriever(search_type=\"mmr\", \n",
    "                                                                           search_kwargs={'fetch_k': 30}), \n",
    "                                 return_source_documents=True)"
   ]
  },
  {
   "cell_type": "code",
   "execution_count": 11,
   "id": "a6c6de17-8bf0-491c-b22a-4afe96a13907",
   "metadata": {},
   "outputs": [
    {
     "data": {
      "text/plain": [
       "dict_keys(['query', 'result', 'source_documents'])"
      ]
     },
     "execution_count": 11,
     "metadata": {},
     "output_type": "execute_result"
    }
   ],
   "source": [
    "result = qa({\"query\": \"what is the title of this document and who produced it?\"})\n",
    "result.keys()"
   ]
  },
  {
   "cell_type": "code",
   "execution_count": 12,
   "id": "f5a7b9b5-6dc4-4a12-995e-97a8dbf0473c",
   "metadata": {},
   "outputs": [
    {
     "data": {
      "text/plain": [
       "\"The title of this document is Apple's 2021 ESG Report and it was produced by Apple.\""
      ]
     },
     "execution_count": 12,
     "metadata": {},
     "output_type": "execute_result"
    }
   ],
   "source": [
    "result[\"result\"]"
   ]
  },
  {
   "cell_type": "code",
   "execution_count": 13,
   "id": "a771e15f-ff3b-4d58-85df-983d0d437af8",
   "metadata": {},
   "outputs": [
    {
     "data": {
      "text/plain": [
       "{'page': 54, 'source': './gcs-bucket/reports/2021/2021_AAPL.pdf'}"
      ]
     },
     "execution_count": 13,
     "metadata": {},
     "output_type": "execute_result"
    }
   ],
   "source": [
    "result[\"source_documents\"][0].metadata"
   ]
  },
  {
   "cell_type": "code",
   "execution_count": 14,
   "id": "82d825b3-6ea5-4790-af2f-f7b76df088c8",
   "metadata": {},
   "outputs": [],
   "source": [
    "query_list = [\"What are the company's views on climate change?\",\n",
    "              \"What are the company' plans to become more energy efficient?\",\n",
    "              \"Which are the highlights of this report?\",\n",
    "              \"How the company is going to achieve carbon neutrality?\",\n",
    "              \"How the company manages its water consumption?\",\n",
    "              \"How the company manages its energy consumption?\",\n",
    "              \"How is waste handled by the company?\",\n",
    "              \"Which future targets are mentioned in the report?\",\n",
    "              \"What are the company's plan to achive their targets?\"\n",
    "              \"How many targets the company have achieved? Which are those?\",\n",
    "              \"Which targets the company could not meet?\"\n",
    "              \"How did the company support their employes during the Covid Pandemic?\"]"
   ]
  },
  {
   "cell_type": "code",
   "execution_count": 15,
   "id": "eff285a4-9f4f-4883-8b91-c28341f4a6fe",
   "metadata": {},
   "outputs": [],
   "source": [
    "def QA(query):\n",
    "    pagelist = []\n",
    "    result = qa({\"query\": query})\n",
    "    result[\"result\"]\n",
    "    for i in range(len(result[\"source_documents\"])): \n",
    "        pagelist.append((result[\"source_documents\"][i].metadata.get('page')))\n",
    "    return result[\"result\"], pagelist"
   ]
  },
  {
   "cell_type": "code",
   "execution_count": 16,
   "id": "43334bea-6e40-4df5-b181-068ac46688c3",
   "metadata": {},
   "outputs": [
    {
     "name": "stdout",
     "output_type": "stream",
     "text": [
      "Query:  What are the company's views on climate change?\n",
      "Response: Apple has committed to reducing its carbon footprint by 75% by 2030. The company has also issued about $4.7 billion in green bonds to finance renewable energy projects.\n",
      "Source (page numbers):  [42, 5, 63, 6]\n",
      "===============================\n",
      "Query:  What are the company' plans to become more energy efficient?\n",
      "Response: Apple's energy efficiency goals extend well beyond its products. The company is focused on using less energy across its operations and in its supply chain. At its facilities, Apple tracks energy use and explores ways to save energy: renovating and retrofitting older locations, designing new facilities with energy efficiency in mind, and working with local utilities on energy efficiency strategies.\n",
      "Source (page numbers):  [7, 5, 16, 34]\n",
      "===============================\n",
      "Query:  Which are the highlights of this report?\n",
      "Response: The highlights of this report are:\n",
      "- Apple has over 160,000 talented employees across the world.\n",
      "- We are taking meaningful actions for more diverse representation across every part of the business.\n",
      "- All of our team members are required to complete unconscious bias and inclusion training.\n",
      "- DNA membership has more than doubled since 2018, with more than 54,000 employees.\n",
      "- In 2020, team members completed nearly 160,000 hours of learning to create more inclusive work environments.\n",
      "Source (page numbers):  [62, 58, 14, 26]\n",
      "===============================\n",
      "Query:  How the company is going to achieve carbon neutrality?\n",
      "Response: Apple is working to achieve carbon neutrality by using low-carbon materials, driving energy efficiency, and switching to clean energy. The company has also committed to making its products using only recycled or renewable materials.\n",
      "Source (page numbers):  [7, 3, 59, 34]\n",
      "===============================\n",
      "Query:  How the company manages its water consumption?\n",
      "Response: Apple uses water efficiently, transitions from freshwater to alternative sources, discharges used water responsibly, and pursues water stewardship to keep watersheds healthy.\n",
      "Source (page numbers):  [10, 5, 34, 62]\n",
      "===============================\n",
      "Query:  How the company manages its energy consumption?\n",
      "Response: Apple has issued about $4.7 billion in green bonds.\n",
      "Source (page numbers):  [41, 6, 58, 26]\n",
      "===============================\n",
      "Query:  How is waste handled by the company?\n",
      "Response: Apple is committed to reducing waste and increasing recycling across its operations and supply chain. In 2020, Apple released seven products with more than 20 percent recycled content. The MacBook Air with Retina display (2020) contains 40 percent of material from recycled sources, including 100 percent recycled aluminum in the enclosure. And in October 2020, Apple introduced iPhone 12 and iPhone 12 Pro, the first Apple products made with 99 percent recycled tungsten and 98 percent recycled rare earth elements.\n",
      "Source (page numbers):  [9, 37, 58, 39]\n",
      "===============================\n",
      "Query:  Which future targets are mentioned in the report?\n",
      "Response: The report mentions that Apple is committed to increasing the representation of underrepresented communities in the workforce. The company has set a goal of increasing the representation of underrepresented communities in the U.S. to 65% by 2025 and globally to 50% by 2030.\n",
      "Source (page numbers):  [62, 36, 58, 14]\n",
      "===============================\n",
      "Query:  What are the company's plan to achive their targets?How many targets the company have achieved? Which are those?\n",
      "Response: Apple has a number of plans to achieve its targets. For example, the company is working to reduce its carbon footprint by 75 percent by 2030, and it has already achieved a number of targets in this area. For example, the company has reduced its energy use by 70 percent since 2008, and it has also achieved zero waste to landfill at all of its final assembly sites.\n",
      "Source (page numbers):  [57, 63, 58, 50]\n",
      "===============================\n",
      "Query:  Which targets the company could not meet?How did the company support their employes during the Covid Pandemic?\n",
      "Response: The company could not meet the target of providing free testing to all employees. However, they did provide free testing to eligible employees and created their own face masks for the safety of employees.\n",
      "Source (page numbers):  [34, 20, 62, 45]\n",
      "===============================\n"
     ]
    }
   ],
   "source": [
    "## With embedding model: thenlper/gte-base\n",
    "for q in range(len(query_list)):\n",
    "    ans = QA(query_list[q])\n",
    "    print('Query: ', query_list[q])\n",
    "    print('Response:', ans[0])\n",
    "    print('Source (page numbers): ', ans[1])\n",
    "    print(\"===============================\")"
   ]
  },
  {
   "cell_type": "markdown",
   "id": "1e91583f-789c-4e21-9faf-d48fb552c2fa",
   "metadata": {},
   "source": [
    "# Now adding prompt"
   ]
  },
  {
   "cell_type": "code",
   "execution_count": 17,
   "id": "68bf70ae-00cc-436d-a90d-f470a97c98e7",
   "metadata": {},
   "outputs": [],
   "source": [
    "# Now adding prompt\n",
    "prompt_template = \"\"\"Use the following pieces of context to answer the question at the end.\\ \n",
    "    If you don't know the answer, just say that information is not available, don't try to make up an answer.\\\n",
    "    Keep the answer as concise as possible and present as a bullet points.\\ \n",
    "    Always say \"thanks for asking!\" at the end of the answer, in new line. \n",
    "    {context}\n",
    "    Question: {question}\n",
    "    Answer:\"\"\"\n",
    "        \n",
    "PROMPT = PromptTemplate(template=prompt_template, input_variables=[\"context\", \"question\"] )\n",
    "\n",
    "chain_type_kwargs = {\"prompt\": PROMPT}\n",
    "    \n",
    "qa_retriever = RetrievalQA.from_chain_type(llm=llm,chain_type=\"stuff\",\n",
    "                                           retriever=vectordb_singleDoc.as_retriever(), \n",
    "                                           chain_type_kwargs=chain_type_kwargs, \n",
    "                                           return_source_documents=True, verbose=False )"
   ]
  },
  {
   "cell_type": "code",
   "execution_count": 18,
   "id": "0f2b5212-77b7-4e8a-a520-ba35118e71bf",
   "metadata": {},
   "outputs": [
    {
     "name": "stdout",
     "output_type": "stream",
     "text": [
      "Response: Apple is working to achieve carbon neutrality by using low-carbon materials, driving energy efficiency, and switching to clean energy. The company has also committed to making its products using only recycled or renewable materials.\n",
      "Source (page numbers):  [7, 3, 59, 34]\n"
     ]
    }
   ],
   "source": [
    "query = \"How the company is going to achieve carbon neutrality?\"\n",
    "#result = qa_retriever({\"query\": query})\n",
    "result = QA(query)\n",
    "print('Response:', result[0])\n",
    "print('Source (page numbers): ', result[1])"
   ]
  },
  {
   "cell_type": "markdown",
   "id": "24234356-9fd5-4c49-be68-6060134bad5c",
   "metadata": {},
   "source": [
    "## ConversationalRetrievalChain is useful for chat like continuous conversation where memory object is used. \n",
    "### As a source it returns name of pdf file. \n",
    "### To get page numbers, input parameters varies."
   ]
  },
  {
   "cell_type": "code",
   "execution_count": 19,
   "id": "f3364734-de97-43c5-a75a-dea705ebe17a",
   "metadata": {},
   "outputs": [],
   "source": [
    "from langchain.chains import ConversationalRetrievalChain\n",
    "from langchain.memory import ConversationBufferMemory\n",
    "\n",
    "memory = ConversationBufferMemory(memory_key=\"chat_history\", return_messages=True)\n",
    "\n",
    "qa = ConversationalRetrievalChain.from_llm(llm, vectordb_singleDoc.as_retriever(), \n",
    "                                           memory=memory)"
   ]
  },
  {
   "cell_type": "code",
   "execution_count": 20,
   "id": "5c03b2f3-07bd-4e3b-a5e4-ac4d567f784c",
   "metadata": {},
   "outputs": [],
   "source": [
    "query = \"what is the title of this document?\"\n",
    "result = qa({\"question\": query})"
   ]
  },
  {
   "cell_type": "code",
   "execution_count": 21,
   "id": "b3cfc60f-4e76-45a2-90b7-6582679ef779",
   "metadata": {},
   "outputs": [
    {
     "data": {
      "text/plain": [
       "{'question': 'what is the title of this document?',\n",
       " 'chat_history': [HumanMessage(content='what is the title of this document?'),\n",
       "  AIMessage(content=\"The title of this document is Apple's 2021 ESG Report.\")],\n",
       " 'answer': \"The title of this document is Apple's 2021 ESG Report.\"}"
      ]
     },
     "execution_count": 21,
     "metadata": {},
     "output_type": "execute_result"
    }
   ],
   "source": [
    "result"
   ]
  },
  {
   "cell_type": "code",
   "execution_count": 22,
   "id": "d2f45055-363a-4f7a-950c-c0eb8097138b",
   "metadata": {},
   "outputs": [
    {
     "data": {
      "text/plain": [
       "{'question': 'How is waste handled by the company?',\n",
       " 'chat_history': [HumanMessage(content='what is the title of this document?'),\n",
       "  AIMessage(content=\"The title of this document is Apple's 2021 ESG Report.\"),\n",
       "  HumanMessage(content='How is waste handled by the company?'),\n",
       "  AIMessage(content='Apple is committed to reducing waste and increasing recycling in its supply chain. The company has a zero waste to landfill goal for key manufacturing facilities, corporate offices, data centers, and retail stores. In fiscal year 2020, Apple sent 39,000 metric tons of e-waste to recycling.')],\n",
       " 'answer': 'Apple is committed to reducing waste and increasing recycling in its supply chain. The company has a zero waste to landfill goal for key manufacturing facilities, corporate offices, data centers, and retail stores. In fiscal year 2020, Apple sent 39,000 metric tons of e-waste to recycling.'}"
      ]
     },
     "execution_count": 22,
     "metadata": {},
     "output_type": "execute_result"
    }
   ],
   "source": [
    "query = \"How is waste handled by the company?\"\n",
    "result = qa({\"question\": query})\n",
    "result"
   ]
  },
  {
   "cell_type": "code",
   "execution_count": null,
   "id": "2b51d38a-2eca-4493-8a04-c5354d3a52d2",
   "metadata": {},
   "outputs": [],
   "source": []
  },
  {
   "cell_type": "code",
   "execution_count": 23,
   "id": "96aa333e-13e8-4763-96dc-d86d1e873fbe",
   "metadata": {},
   "outputs": [],
   "source": [
    "from langchain.prompts.prompt import PromptTemplate\n",
    "\n",
    "custom_template = \"\"\"Given the following conversation and a follow up question, \\\n",
    "rephrase the follow up question to be a standalone question, in English language.\\\n",
    "If you do not know the answer reply with 'I do not have the information'.\n",
    "Chat History:\n",
    "{chat_history}\n",
    "Follow Up Input: {question}\n",
    "Standalone question:\"\"\"\n",
    "        \n",
    "CUSTOM_QUESTION_PROMPT = PromptTemplate.from_template(custom_template)\n",
    "\n",
    "memory = ConversationBufferMemory(memory_key=\"chat_history\", return_messages=True)\n",
    "qa_prompt = ConversationalRetrievalChain.from_llm(llm, \n",
    "                                                  vectordb_singleDoc.as_retriever(),\n",
    "                                                  condense_question_prompt=CUSTOM_QUESTION_PROMPT,\n",
    "                                                  memory=memory\n",
    "                                                  )"
   ]
  },
  {
   "cell_type": "code",
   "execution_count": 24,
   "id": "c552d15d-9eba-4978-b699-84eca9114dc7",
   "metadata": {},
   "outputs": [
    {
     "data": {
      "text/plain": [
       "{'question': 'what is the title of this document?',\n",
       " 'chat_history': [HumanMessage(content='what is the title of this document?'),\n",
       "  AIMessage(content=\"The title of this document is Apple's 2021 ESG Report.\")],\n",
       " 'answer': \"The title of this document is Apple's 2021 ESG Report.\"}"
      ]
     },
     "execution_count": 24,
     "metadata": {},
     "output_type": "execute_result"
    }
   ],
   "source": [
    "chat_history = [(query, result[\"answer\"])]\n",
    "query = \"what is the title of this document?\"\n",
    "result = qa_prompt({\"question\": query, \"chat_history\": chat_history})\n",
    "result"
   ]
  },
  {
   "cell_type": "code",
   "execution_count": 25,
   "id": "499c03ff-9e73-4fe0-abfd-4ffa84c0c4ed",
   "metadata": {},
   "outputs": [
    {
     "data": {
      "text/plain": [
       "{'question': 'How company is going to achieve carbon neutrality?',\n",
       " 'chat_history': [HumanMessage(content='what is the title of this document?'),\n",
       "  AIMessage(content=\"The title of this document is Apple's 2021 ESG Report.\"),\n",
       "  HumanMessage(content='How is waste handled by the company?'),\n",
       "  AIMessage(content='Apple is committed to reducing waste and increasing recycling in its supply chain. The company has a zero waste to landfill goal for key manufacturing facilities, corporate offices, data centers, and retail stores. In fiscal year 2020, Apple sent 39,000 metric tons of e-waste to recycling.'),\n",
       "  HumanMessage(content='How company is going to achieve carbon neutrality?'),\n",
       "  AIMessage(content='Apple is going to achieve carbon neutrality by reducing its emissions by 75 percent compared to 2015, and by investing in carbon removal solutions for the remaining emissions.')],\n",
       " 'answer': 'Apple is going to achieve carbon neutrality by reducing its emissions by 75 percent compared to 2015, and by investing in carbon removal solutions for the remaining emissions.'}"
      ]
     },
     "execution_count": 25,
     "metadata": {},
     "output_type": "execute_result"
    }
   ],
   "source": [
    "chat_history = [(query, result[\"answer\"])]\n",
    "query = \"How company is going to achieve carbon neutrality?\"\n",
    "result = qa({\"question\": query, \"chat_history\": chat_history})\n",
    "result"
   ]
  },
  {
   "cell_type": "code",
   "execution_count": 26,
   "id": "5a56ecba-2f87-4a6b-b5aa-c488c9f25bb1",
   "metadata": {},
   "outputs": [
    {
     "data": {
      "text/plain": [
       "dict_keys(['question', 'chat_history', 'answer'])"
      ]
     },
     "execution_count": 26,
     "metadata": {},
     "output_type": "execute_result"
    }
   ],
   "source": [
    "result.keys()"
   ]
  },
  {
   "cell_type": "code",
   "execution_count": 27,
   "id": "b9c545df-28fd-42cb-8549-cd60bda8a78c",
   "metadata": {},
   "outputs": [
    {
     "data": {
      "text/plain": [
       "'Apple is going to achieve carbon neutrality by reducing its emissions by 75 percent compared to 2015, and by investing in carbon removal solutions for the remaining emissions.'"
      ]
     },
     "execution_count": 27,
     "metadata": {},
     "output_type": "execute_result"
    }
   ],
   "source": [
    "result['answer']"
   ]
  },
  {
   "cell_type": "code",
   "execution_count": 28,
   "id": "0b33deee-3d85-470a-9515-2b0169dc042c",
   "metadata": {},
   "outputs": [
    {
     "data": {
      "text/plain": [
       "[HumanMessage(content='what is the title of this document?'),\n",
       " AIMessage(content=\"The title of this document is Apple's 2021 ESG Report.\"),\n",
       " HumanMessage(content='How is waste handled by the company?'),\n",
       " AIMessage(content='Apple is committed to reducing waste and increasing recycling in its supply chain. The company has a zero waste to landfill goal for key manufacturing facilities, corporate offices, data centers, and retail stores. In fiscal year 2020, Apple sent 39,000 metric tons of e-waste to recycling.'),\n",
       " HumanMessage(content='How company is going to achieve carbon neutrality?'),\n",
       " AIMessage(content='Apple is going to achieve carbon neutrality by reducing its emissions by 75 percent compared to 2015, and by investing in carbon removal solutions for the remaining emissions.')]"
      ]
     },
     "execution_count": 28,
     "metadata": {},
     "output_type": "execute_result"
    }
   ],
   "source": [
    "result['chat_history']"
   ]
  },
  {
   "cell_type": "code",
   "execution_count": null,
   "id": "c76b409b-f6b2-48c2-88f2-5c1fcd50ff04",
   "metadata": {},
   "outputs": [],
   "source": []
  },
  {
   "cell_type": "code",
   "execution_count": 29,
   "id": "5eb23282-cbce-46f0-bb26-57bfe9d5713d",
   "metadata": {},
   "outputs": [],
   "source": [
    "qa_prompt_source = ConversationalRetrievalChain.from_llm(llm, \n",
    "                                                vectordb_singleDoc.as_retriever(),\n",
    "                                                condense_question_prompt=CUSTOM_QUESTION_PROMPT,\n",
    "                                                return_source_documents=True\n",
    ")"
   ]
  },
  {
   "cell_type": "code",
   "execution_count": 30,
   "id": "8e91b313-9170-42e9-8e2b-5c248f0f88a9",
   "metadata": {},
   "outputs": [],
   "source": [
    "chat_history = []\n",
    "chat_history = [(query, result[\"answer\"])]\n",
    "query = \"which are defined targets?\"\n",
    "result = qa_prompt_source({\"question\": query, \"chat_history\": chat_history})"
   ]
  },
  {
   "cell_type": "code",
   "execution_count": 31,
   "id": "3c94b7a5-329a-4484-86d9-e159eb709903",
   "metadata": {},
   "outputs": [
    {
     "data": {
      "text/plain": [
       "dict_keys(['question', 'chat_history', 'answer', 'source_documents'])"
      ]
     },
     "execution_count": 31,
     "metadata": {},
     "output_type": "execute_result"
    }
   ],
   "source": [
    "chat_history = [(query, result[\"answer\"])]\n",
    "query = \"which sections this document has?\"\n",
    "result = qa_prompt_source({\"question\": query, \"chat_history\": chat_history})\n",
    "result.keys()"
   ]
  },
  {
   "cell_type": "code",
   "execution_count": 32,
   "id": "ba105a40-a02a-4328-a554-cbe6537a5dfa",
   "metadata": {},
   "outputs": [
    {
     "name": "stdout",
     "output_type": "stream",
     "text": [
      "response:  The document has the following sections:\n",
      "- Introduction\n",
      "- Our Business\n",
      "- Our People\n",
      "- Suppliers\n",
      "- Customers\n",
      "- Communities\n",
      "- Environment\n",
      "- Appendix\n",
      "\n",
      "\n",
      "source:  {'page': 58, 'source': './gcs-bucket/reports/2021/2021_AAPL.pdf'}\n",
      "\n",
      "\n",
      "chat_hist:  [('which are defined targets?', 'Apple has defined targets to reduce emissions by 75% by 2030, and to achieve 100% renewable energy for Apple facilities by 2030.')]\n"
     ]
    }
   ],
   "source": [
    "print(\"response: \", result[\"answer\"])\n",
    "print(\"\\n\")\n",
    "print('source: ', result[\"source_documents\"][0].metadata)\n",
    "print(\"\\n\")\n",
    "print('chat_hist: ', result['chat_history'])"
   ]
  },
  {
   "cell_type": "code",
   "execution_count": 48,
   "id": "72b30e83-b26d-4489-a9d0-29f41b2354d8",
   "metadata": {},
   "outputs": [],
   "source": [
    "### checking chat history: keep earlier query-history in memory"
   ]
  },
  {
   "cell_type": "code",
   "execution_count": 33,
   "id": "e293e32b-efd7-4575-a743-915976e047ee",
   "metadata": {},
   "outputs": [],
   "source": [
    "chat_history = [(query, result[\"answer\"])]\n",
    "query = \"what is the title?\"\n",
    "result = qa_prompt_source({\"question\": query, \"chat_history\": chat_history})"
   ]
  },
  {
   "cell_type": "code",
   "execution_count": 34,
   "id": "586183ae-55fc-41c3-b1c6-198e96b86c59",
   "metadata": {},
   "outputs": [
    {
     "name": "stdout",
     "output_type": "stream",
     "text": [
      "response:  The title of the document is Apple's 2021 ESG Report.\n",
      "\n",
      "\n",
      "source:  {'page': 54, 'source': './gcs-bucket/reports/2021/2021_AAPL.pdf'}\n",
      "\n",
      "\n",
      "chat_hist:  [('which sections this document has?', 'The document has the following sections:\\n- Introduction\\n- Our Business\\n- Our People\\n- Suppliers\\n- Customers\\n- Communities\\n- Environment\\n- Appendix')]\n"
     ]
    }
   ],
   "source": [
    "print(\"response: \", result[\"answer\"])\n",
    "print(\"\\n\")\n",
    "print('source: ', result[\"source_documents\"][0].metadata)\n",
    "print(\"\\n\")\n",
    "print('chat_hist: ', result['chat_history'])"
   ]
  },
  {
   "cell_type": "code",
   "execution_count": null,
   "id": "31bf91c5-ced6-43a5-9b46-c0243f6c60b4",
   "metadata": {},
   "outputs": [],
   "source": []
  },
  {
   "cell_type": "code",
   "execution_count": null,
   "id": "b978fc58-21fd-4d36-8c9e-9a58ff7301a4",
   "metadata": {},
   "outputs": [],
   "source": []
  },
  {
   "cell_type": "code",
   "execution_count": null,
   "id": "ac4135c5-ed5e-4580-9241-dbf315b0c01f",
   "metadata": {},
   "outputs": [],
   "source": []
  }
 ],
 "metadata": {
  "environment": {
   "kernel": "python3",
   "name": "tf2-cpu.2-11.m112",
   "type": "gcloud",
   "uri": "gcr.io/deeplearning-platform-release/tf2-cpu.2-11:m112"
  },
  "kernelspec": {
   "display_name": "Python 3",
   "language": "python",
   "name": "python3"
  },
  "language_info": {
   "codemirror_mode": {
    "name": "ipython",
    "version": 3
   },
   "file_extension": ".py",
   "mimetype": "text/x-python",
   "name": "python",
   "nbconvert_exporter": "python",
   "pygments_lexer": "ipython3",
   "version": "3.10.12"
  }
 },
 "nbformat": 4,
 "nbformat_minor": 5
}
