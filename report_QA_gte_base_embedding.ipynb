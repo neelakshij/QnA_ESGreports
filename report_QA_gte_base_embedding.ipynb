{
 "cells": [
  {
   "cell_type": "markdown",
   "id": "3b12061a-f9c5-494f-9f48-9cc1668855a5",
   "metadata": {},
   "source": [
    "# Experimenting thenlper/gte-base embedding model\n",
    "### It ranked 6th on leaderboard, has 768 embedding dimension, & 51.14 score for retrieval task."
   ]
  },
  {
   "cell_type": "code",
   "execution_count": 2,
   "id": "b96bb8f2-4e2a-479b-90ff-8523cddc6066",
   "metadata": {},
   "outputs": [],
   "source": [
    "# import libraries\n",
    "import streamlit as st\n",
    "import os\n",
    "os.environ['TF_CPP_MIN_LOG_LEVEL'] = '3'\n",
    "import pandas as pd\n",
    "import vertexai\n",
    "import langchain\n",
    "from langchain.chains import RetrievalQA\n",
    "from langchain.text_splitter import CharacterTextSplitter\n",
    "from transformers import AutoTokenizer\n",
    "from langchain.embeddings import HuggingFaceEmbeddings\n",
    "from langchain.llms import VertexAI\n",
    "from langchain.document_loaders import PyPDFLoader\n",
    "from langchain.vectorstores import Chroma\n",
    "from langchain.prompts import PromptTemplate"
   ]
  },
  {
   "cell_type": "code",
   "execution_count": 3,
   "id": "4a901d38-76ac-4ff3-8c6f-658f1d6d0cd1",
   "metadata": {},
   "outputs": [],
   "source": [
    "# define LLM\n",
    "llm = VertexAI(\n",
    "    model_name=\"text-bison@001\",\n",
    "    max_output_tokens=500,\n",
    "    temperature=0,\n",
    "    top_p=0.8,\n",
    "    top_k=40,\n",
    "    verbose=True,\n",
    ")"
   ]
  },
  {
   "cell_type": "code",
   "execution_count": 4,
   "id": "8e6084ec-3eec-4896-bb6f-bef83f8d9d82",
   "metadata": {},
   "outputs": [],
   "source": [
    "# load file and split in pages\n",
    "def fileloader(pdffile):\n",
    "    loader = PyPDFLoader(pdffile)\n",
    "    pages = loader.load_and_split()\n",
    "    return pages\n",
    "pages = fileloader('./gcs-bucket/reports/2021/2021_AAPL.pdf')"
   ]
  },
  {
   "cell_type": "code",
   "execution_count": 5,
   "id": "1efe921c-c0c7-46d1-9a98-4add6405da84",
   "metadata": {},
   "outputs": [],
   "source": [
    "# create embeddings\n",
    "tokenizer = AutoTokenizer.from_pretrained(\"thenlper/gte-base\")\n",
    "text_splitter = CharacterTextSplitter.from_huggingface_tokenizer(tokenizer, \n",
    "                                                                 chunk_size=150, \n",
    "                                                                 chunk_overlap=20, \n",
    "                                                                 separator=\"\\n\")\n",
    "documents = text_splitter.split_documents(pages)\n",
    "embeddings = HuggingFaceEmbeddings()"
   ]
  },
  {
   "cell_type": "code",
   "execution_count": 6,
   "id": "2e4d45d8-4d71-4b58-9daf-dbcd30bcc2d7",
   "metadata": {},
   "outputs": [],
   "source": [
    "# indexing\n",
    "vectordb_singleDoc = None\n",
    "persist_directory = \"vectordb_singleDoc1\"\n",
    "vectordb_singleDoc1 = Chroma.from_documents(documents=documents,\n",
    "                                 embedding=embeddings,\n",
    "                                 persist_directory=persist_directory)\n",
    "vectordb_singleDoc1.persist()"
   ]
  },
  {
   "cell_type": "code",
   "execution_count": 7,
   "id": "41b4d26a-72eb-4b10-9d14-19cebea2b305",
   "metadata": {},
   "outputs": [],
   "source": [
    "qa = RetrievalQA.from_chain_type(llm=llm, \n",
    "                                 chain_type=\"stuff\", \n",
    "                                 retriever=vectordb_singleDoc1.as_retriever(search_type=\"mmr\", \n",
    "                                                                           search_kwargs={'fetch_k': 30}), \n",
    "                                 return_source_documents=True)"
   ]
  },
  {
   "cell_type": "code",
   "execution_count": 8,
   "id": "a6c6de17-8bf0-491c-b22a-4afe96a13907",
   "metadata": {},
   "outputs": [
    {
     "data": {
      "text/plain": [
       "dict_keys(['query', 'result', 'source_documents'])"
      ]
     },
     "execution_count": 8,
     "metadata": {},
     "output_type": "execute_result"
    }
   ],
   "source": [
    "result = qa({\"query\": \"what is the title of this document and who produced it?\"})\n",
    "result.keys()"
   ]
  },
  {
   "cell_type": "code",
   "execution_count": 9,
   "id": "f5a7b9b5-6dc4-4a12-995e-97a8dbf0473c",
   "metadata": {},
   "outputs": [
    {
     "data": {
      "text/plain": [
       "\"The title of this document is Apple's 2021 Environmental, Social and Governance Report. It was produced by Apple.\""
      ]
     },
     "execution_count": 9,
     "metadata": {},
     "output_type": "execute_result"
    }
   ],
   "source": [
    "result[\"result\"]"
   ]
  },
  {
   "cell_type": "code",
   "execution_count": 10,
   "id": "a771e15f-ff3b-4d58-85df-983d0d437af8",
   "metadata": {},
   "outputs": [
    {
     "data": {
      "text/plain": [
       "{'page': 1, 'source': './gcs-bucket/reports/2021/2021_AAPL.pdf'}"
      ]
     },
     "execution_count": 10,
     "metadata": {},
     "output_type": "execute_result"
    }
   ],
   "source": [
    "result[\"source_documents\"][0].metadata"
   ]
  },
  {
   "cell_type": "code",
   "execution_count": 11,
   "id": "82d825b3-6ea5-4790-af2f-f7b76df088c8",
   "metadata": {},
   "outputs": [],
   "source": [
    "query_list = [\"What are the company's views on climate change?\",\n",
    "              \"What are the company' plans to become more energy efficient?\",\n",
    "              \"Which are the highlights of this report?\",\n",
    "              \"How the company is going to achieve carbon neutrality?\",\n",
    "              \"How the company manages its water consumption?\",\n",
    "              \"How the company manages its energy consumption?\",\n",
    "              \"How is waste handled by the company?\",\n",
    "              \"Which future targets are mentioned in the report?\",\n",
    "              \"What are the company's plan to achive their targets?\"\n",
    "              \"How many targets the company have achieved? Which are those?\",\n",
    "              \"Which targets the company could not meet?\"\n",
    "              \"How did the company support their employes during the Covid Pandemic?\"]"
   ]
  },
  {
   "cell_type": "code",
   "execution_count": 13,
   "id": "eff285a4-9f4f-4883-8b91-c28341f4a6fe",
   "metadata": {},
   "outputs": [],
   "source": [
    "def QA(query):\n",
    "    pagelist = []\n",
    "    result = qa({\"query\": query})\n",
    "    result[\"result\"]\n",
    "    for i in range(len(result[\"source_documents\"])): \n",
    "        pagelist.append((result[\"source_documents\"][i].metadata.get('page')))\n",
    "    return result[\"result\"], pagelist"
   ]
  },
  {
   "cell_type": "code",
   "execution_count": 14,
   "id": "43334bea-6e40-4df5-b181-068ac46688c3",
   "metadata": {},
   "outputs": [
    {
     "name": "stdout",
     "output_type": "stream",
     "text": [
      "Query:  What are the company's views on climate change?\n",
      "Response: The company's views on climate change are that it is a serious issue that needs to be addressed. The company is committed to reducing its carbon footprint and is working to develop new technologies that will help to reduce emissions. The company is also working with other companies and organizations to address climate change.\n",
      "Source (page numbers):  [3, 1, 9, 42]\n",
      "===============================\n",
      "Query:  What are the company' plans to become more energy efficient?\n",
      "Response: The company's plans to become more energy efficient are to use energy more efficiently across retail stores, offices, data centers, and manufacturing sites.\n",
      "Source (page numbers):  [6, 8, 7, 9]\n",
      "===============================\n",
      "Query:  Which are the highlights of this report?\n",
      "Response: The highlights of this report are:\n",
      "- Apple's commitment to diversity and inclusion\n",
      "- Apple's commitment to human rights\n",
      "- Apple's commitment to ethics and compliance\n",
      "- Apple's commitment to tax payments\n",
      "- Apple's commitment to stakeholder engagement\n",
      "- Apple's awards and recognition\n",
      "- Apple's commitment to the United Nations Sustainable Development Goals\n",
      "Source (page numbers):  [1, 13, 1, 16]\n",
      "===============================\n",
      "Query:  How the company is going to achieve carbon neutrality?\n",
      "Response: The company is going to achieve carbon neutrality by reducing its energy use, sourcing 100 percent renewable energy, and investing in working forests and ecosystem restoration.\n",
      "Source (page numbers):  [2, 8, 6, 9]\n",
      "===============================\n",
      "Query:  How the company manages its water consumption?\n",
      "Response: The company uses water efficiently, transitions from freshwater to alternative sources, discharges used water responsibly, and pursues water stewardship to keep watersheds healthy.\n",
      "Source (page numbers):  [10, 8, 33, 62]\n",
      "===============================\n",
      "Query:  How the company manages its energy consumption?\n",
      "Response: The company manages its energy consumption by using renewable energy, energy efficiency, and water stewardship.\n",
      "Source (page numbers):  [8, 7, 10, 62]\n",
      "===============================\n",
      "Query:  How is waste handled by the company?\n",
      "Response: Apple has a zero waste goal for its global operations. The company has a supplier Zero Waste Program, through which more than 165 participating facilities can access guidance and tools to improve waste management. Suppliers diverted over 400,000 metric tons of waste from landfill in 2020, bringing the total to 1.65 million metric tons diverted since 2015. 100% of all established final waste streams were sent to recycling in fiscal year 2020.\n",
      "Source (page numbers):  [10, 9, 32, 63]\n",
      "===============================\n",
      "Query:  Which future targets are mentioned in the report?\n",
      "Response: The report does not mention any future targets.\n",
      "Source (page numbers):  [60, 62, 42, 62]\n",
      "===============================\n",
      "Query:  What are the company's plan to achive their targets?How many targets the company have achieved? Which are those?\n",
      "Response: The company has made tremendous progress toward their goal of transitioning their entire manufacturing supply chain to 100 percent renewable electricity by 2030. They have already brought over 4 gigawatts of additional renewable energy online to their supply chain, with additional supplier commitments bringing the total to nearly 8 gigawatts. The renewable energy already online generated 11.4 million megawatt-hours of clean energy in fiscal year 2020, avoiding 8.6 million metric tons of carbon dioxide emissions.\n",
      "Source (page numbers):  [60, 62, 1, 8]\n",
      "===============================\n",
      "Query:  Which targets the company could not meet?How did the company support their employes during the Covid Pandemic?\n",
      "Response: The company provided free testing to eligible employees and created their own face masks for the safety of employees. They also offered special sick leave for employees with possible COVID-19 symptoms, as well as comprehensive health coverage.\n",
      "Source (page numbers):  [20, 60, 33, 37]\n",
      "===============================\n"
     ]
    }
   ],
   "source": [
    "## With embedding model: thenlper/gte-base\n",
    "for q in range(len(query_list)):\n",
    "    ans = QA(query_list[q])\n",
    "    print('Query: ', query_list[q])\n",
    "    print('Response:', ans[0])\n",
    "    print('Source (page numbers): ', ans[1])\n",
    "    print(\"===============================\")"
   ]
  },
  {
   "cell_type": "markdown",
   "id": "1e91583f-789c-4e21-9faf-d48fb552c2fa",
   "metadata": {},
   "source": [
    "# Now adding prompt"
   ]
  },
  {
   "cell_type": "code",
   "execution_count": 16,
   "id": "68bf70ae-00cc-436d-a90d-f470a97c98e7",
   "metadata": {},
   "outputs": [],
   "source": [
    "# Now adding prompt\n",
    "prompt_template = \"\"\"Use the following pieces of context to answer the question at the end.\\ \n",
    "    If you don't know the answer, just say that information is not available, don't try to make up an answer.\\\n",
    "    Keep the answer as concise as possible and present as a bullet points.\\ \n",
    "    Always say \"thanks for asking!\" at the end of the answer, in new line. \n",
    "    {context}\n",
    "    Question: {question}\n",
    "    Answer:\"\"\"\n",
    "        \n",
    "PROMPT = PromptTemplate(template=prompt_template, input_variables=[\"context\", \"question\"] )\n",
    "\n",
    "chain_type_kwargs = {\"prompt\": PROMPT}\n",
    "    \n",
    "qa_retriever = RetrievalQA.from_chain_type(llm=llm,chain_type=\"stuff\",\n",
    "                                           retriever=vectordb_singleDoc1.as_retriever(), \n",
    "                                           chain_type_kwargs=chain_type_kwargs, \n",
    "                                           return_source_documents=True, verbose=False )"
   ]
  },
  {
   "cell_type": "code",
   "execution_count": 17,
   "id": "0f2b5212-77b7-4e8a-a520-ba35118e71bf",
   "metadata": {},
   "outputs": [
    {
     "name": "stdout",
     "output_type": "stream",
     "text": [
      "Response: The company is going to achieve carbon neutrality by reducing its energy use, sourcing 100 percent renewable energy, and investing in working forests and ecosystem restoration.\n",
      "Source (page numbers):  [2, 8, 6, 9]\n"
     ]
    }
   ],
   "source": [
    "query = \"How the company is going to achieve carbon neutrality?\"\n",
    "#result = qa_retriever({\"query\": query})\n",
    "result = QA(query)\n",
    "print('Response:', result[0])\n",
    "print('Source (page numbers): ', result[1])"
   ]
  },
  {
   "cell_type": "markdown",
   "id": "24234356-9fd5-4c49-be68-6060134bad5c",
   "metadata": {},
   "source": [
    "## ConversationalRetrievalChain is useful for chat like continuous conversation where memory object is used. \n",
    "### As a source it returns name of pdf file. \n",
    "### To get page numbers, input parameters varies."
   ]
  },
  {
   "cell_type": "code",
   "execution_count": 19,
   "id": "f3364734-de97-43c5-a75a-dea705ebe17a",
   "metadata": {},
   "outputs": [],
   "source": [
    "from langchain.chains import ConversationalRetrievalChain\n",
    "from langchain.memory import ConversationBufferMemory\n",
    "\n",
    "memory = ConversationBufferMemory(memory_key=\"chat_history\", return_messages=True)\n",
    "\n",
    "qa = ConversationalRetrievalChain.from_llm(llm, vectordb_singleDoc1.as_retriever(), memory=memory)"
   ]
  },
  {
   "cell_type": "code",
   "execution_count": 20,
   "id": "5c03b2f3-07bd-4e3b-a5e4-ac4d567f784c",
   "metadata": {},
   "outputs": [],
   "source": [
    "query = \"what is the title of this document?\"\n",
    "result = qa({\"question\": query})"
   ]
  },
  {
   "cell_type": "code",
   "execution_count": 21,
   "id": "b3cfc60f-4e76-45a2-90b7-6582679ef779",
   "metadata": {},
   "outputs": [
    {
     "data": {
      "text/plain": [
       "{'question': 'what is the title of this document?',\n",
       " 'chat_history': [HumanMessage(content='what is the title of this document?'),\n",
       "  AIMessage(content=\"The title of this document is Apple's 2021 ESG Report.\")],\n",
       " 'answer': \"The title of this document is Apple's 2021 ESG Report.\"}"
      ]
     },
     "execution_count": 21,
     "metadata": {},
     "output_type": "execute_result"
    }
   ],
   "source": [
    "result"
   ]
  },
  {
   "cell_type": "code",
   "execution_count": 22,
   "id": "d2f45055-363a-4f7a-950c-c0eb8097138b",
   "metadata": {},
   "outputs": [
    {
     "data": {
      "text/plain": [
       "{'question': 'How is waste handled by the company?',\n",
       " 'chat_history': [HumanMessage(content='what is the title of this document?'),\n",
       "  AIMessage(content=\"The title of this document is Apple's 2021 ESG Report.\"),\n",
       "  HumanMessage(content='How is waste handled by the company?'),\n",
       "  AIMessage(content='Apple has a zero waste to landfill goal, which means that they aim to minimize overall waste generated and eliminate waste sent to landfill from key manufacturing facilities, corporate offices, data centers, and retail stores. They also work with their suppliers to help them eliminate waste from manufacturing.')],\n",
       " 'answer': 'Apple has a zero waste to landfill goal, which means that they aim to minimize overall waste generated and eliminate waste sent to landfill from key manufacturing facilities, corporate offices, data centers, and retail stores. They also work with their suppliers to help them eliminate waste from manufacturing.'}"
      ]
     },
     "execution_count": 22,
     "metadata": {},
     "output_type": "execute_result"
    }
   ],
   "source": [
    "query = \"How is waste handled by the company?\"\n",
    "result = qa({\"question\": query})\n",
    "result"
   ]
  },
  {
   "cell_type": "code",
   "execution_count": null,
   "id": "2b51d38a-2eca-4493-8a04-c5354d3a52d2",
   "metadata": {},
   "outputs": [],
   "source": []
  },
  {
   "cell_type": "code",
   "execution_count": 24,
   "id": "96aa333e-13e8-4763-96dc-d86d1e873fbe",
   "metadata": {},
   "outputs": [],
   "source": [
    "from langchain.prompts.prompt import PromptTemplate\n",
    "\n",
    "custom_template = \"\"\"Given the following conversation and a follow up question, \\\n",
    "rephrase the follow up question to be a standalone question, in English language.\\\n",
    "If you do not know the answer reply with 'I do not have the information'.\n",
    "Chat History:\n",
    "{chat_history}\n",
    "Follow Up Input: {question}\n",
    "Standalone question:\"\"\"\n",
    "        \n",
    "CUSTOM_QUESTION_PROMPT = PromptTemplate.from_template(custom_template)\n",
    "\n",
    "memory = ConversationBufferMemory(memory_key=\"chat_history\", return_messages=True)\n",
    "qa_prompt = ConversationalRetrievalChain.from_llm(llm, vectordb_singleDoc1.as_retriever(),\n",
    "    condense_question_prompt=CUSTOM_QUESTION_PROMPT,\n",
    "    memory=memory\n",
    ")"
   ]
  },
  {
   "cell_type": "code",
   "execution_count": 25,
   "id": "c552d15d-9eba-4978-b699-84eca9114dc7",
   "metadata": {},
   "outputs": [
    {
     "data": {
      "text/plain": [
       "{'question': 'what is the title of this document?',\n",
       " 'chat_history': [HumanMessage(content='what is the title of this document?'),\n",
       "  AIMessage(content=\"The title of this document is Apple's 2021 ESG Report.\")],\n",
       " 'answer': \"The title of this document is Apple's 2021 ESG Report.\"}"
      ]
     },
     "execution_count": 25,
     "metadata": {},
     "output_type": "execute_result"
    }
   ],
   "source": [
    "chat_history = [(query, result[\"answer\"])]\n",
    "query = \"what is the title of this document?\"\n",
    "result = qa_prompt({\"question\": query, \"chat_history\": chat_history})\n",
    "result"
   ]
  },
  {
   "cell_type": "code",
   "execution_count": 28,
   "id": "499c03ff-9e73-4fe0-abfd-4ffa84c0c4ed",
   "metadata": {},
   "outputs": [
    {
     "data": {
      "text/plain": [
       "{'question': 'How company is going to achieve carbon neutrality?',\n",
       " 'chat_history': [HumanMessage(content='what is the title of this document?'),\n",
       "  AIMessage(content=\"The title of this document is Apple's 2021 ESG Report.\"),\n",
       "  HumanMessage(content='How is waste handled by the company?'),\n",
       "  AIMessage(content='Apple has a zero waste to landfill goal, which means that they aim to minimize overall waste generated and eliminate waste sent to landfill from key manufacturing facilities, corporate offices, data centers, and retail stores. They also work with their suppliers to help them eliminate waste from manufacturing.'),\n",
       "  HumanMessage(content='How company is going to achieve carbon neutrality?'),\n",
       "  AIMessage(content='The company is going to achieve carbon neutrality by decarbonizing materials used in their products, rapidly deploying renewable energy across their operations and their supply chain, and launching a first-of-its-kind fund to invest in nature-based carbon removal solutions.'),\n",
       "  HumanMessage(content='How company is going to achieve carbon neutrality?'),\n",
       "  AIMessage(content='Apple is going to achieve carbon neutrality by reducing its emissions by 75 percent compared to 2015, and by investing in carbon removal solutions for the remaining emissions.')],\n",
       " 'answer': 'Apple is going to achieve carbon neutrality by reducing its emissions by 75 percent compared to 2015, and by investing in carbon removal solutions for the remaining emissions.'}"
      ]
     },
     "execution_count": 28,
     "metadata": {},
     "output_type": "execute_result"
    }
   ],
   "source": [
    "chat_history = [(query, result[\"answer\"])]\n",
    "query = \"How company is going to achieve carbon neutrality?\"\n",
    "result = qa({\"question\": query, \"chat_history\": chat_history})\n",
    "result"
   ]
  },
  {
   "cell_type": "code",
   "execution_count": 29,
   "id": "5a56ecba-2f87-4a6b-b5aa-c488c9f25bb1",
   "metadata": {},
   "outputs": [
    {
     "data": {
      "text/plain": [
       "dict_keys(['question', 'chat_history', 'answer'])"
      ]
     },
     "execution_count": 29,
     "metadata": {},
     "output_type": "execute_result"
    }
   ],
   "source": [
    "result.keys()"
   ]
  },
  {
   "cell_type": "code",
   "execution_count": 27,
   "id": "b9c545df-28fd-42cb-8549-cd60bda8a78c",
   "metadata": {},
   "outputs": [
    {
     "data": {
      "text/plain": [
       "'The company is going to achieve carbon neutrality by decarbonizing materials used in their products, rapidly deploying renewable energy across their operations and their supply chain, and launching a first-of-its-kind fund to invest in nature-based carbon removal solutions.'"
      ]
     },
     "execution_count": 27,
     "metadata": {},
     "output_type": "execute_result"
    }
   ],
   "source": [
    "result['answer']"
   ]
  },
  {
   "cell_type": "code",
   "execution_count": 30,
   "id": "0b33deee-3d85-470a-9515-2b0169dc042c",
   "metadata": {},
   "outputs": [
    {
     "data": {
      "text/plain": [
       "[HumanMessage(content='what is the title of this document?'),\n",
       " AIMessage(content=\"The title of this document is Apple's 2021 ESG Report.\"),\n",
       " HumanMessage(content='How is waste handled by the company?'),\n",
       " AIMessage(content='Apple has a zero waste to landfill goal, which means that they aim to minimize overall waste generated and eliminate waste sent to landfill from key manufacturing facilities, corporate offices, data centers, and retail stores. They also work with their suppliers to help them eliminate waste from manufacturing.'),\n",
       " HumanMessage(content='How company is going to achieve carbon neutrality?'),\n",
       " AIMessage(content='The company is going to achieve carbon neutrality by decarbonizing materials used in their products, rapidly deploying renewable energy across their operations and their supply chain, and launching a first-of-its-kind fund to invest in nature-based carbon removal solutions.'),\n",
       " HumanMessage(content='How company is going to achieve carbon neutrality?'),\n",
       " AIMessage(content='Apple is going to achieve carbon neutrality by reducing its emissions by 75 percent compared to 2015, and by investing in carbon removal solutions for the remaining emissions.')]"
      ]
     },
     "execution_count": 30,
     "metadata": {},
     "output_type": "execute_result"
    }
   ],
   "source": [
    "result['chat_history']"
   ]
  },
  {
   "cell_type": "code",
   "execution_count": null,
   "id": "c76b409b-f6b2-48c2-88f2-5c1fcd50ff04",
   "metadata": {},
   "outputs": [],
   "source": []
  },
  {
   "cell_type": "code",
   "execution_count": 35,
   "id": "5eb23282-cbce-46f0-bb26-57bfe9d5713d",
   "metadata": {},
   "outputs": [],
   "source": [
    "qa_prompt_source = ConversationalRetrievalChain.from_llm(llm, vectordb_singleDoc1.as_retriever(),\n",
    "                                                condense_question_prompt=CUSTOM_QUESTION_PROMPT,\n",
    "                                                return_source_documents=True\n",
    ")"
   ]
  },
  {
   "cell_type": "code",
   "execution_count": 45,
   "id": "8e91b313-9170-42e9-8e2b-5c248f0f88a9",
   "metadata": {},
   "outputs": [],
   "source": [
    "chat_history = []\n",
    "chat_history = [(query, result[\"answer\"])]\n",
    "query = \"which are defined targets?\"\n",
    "result = qa_prompt_source({\"question\": query, \"chat_history\": chat_history})"
   ]
  },
  {
   "cell_type": "code",
   "execution_count": 46,
   "id": "3c94b7a5-329a-4484-86d9-e159eb709903",
   "metadata": {},
   "outputs": [
    {
     "data": {
      "text/plain": [
       "dict_keys(['question', 'chat_history', 'answer', 'source_documents'])"
      ]
     },
     "execution_count": 46,
     "metadata": {},
     "output_type": "execute_result"
    }
   ],
   "source": [
    "chat_history = [(query, result[\"answer\"])]\n",
    "query = \"which sections this document has?\"\n",
    "result = qa_prompt_source({\"question\": query, \"chat_history\": chat_history})\n",
    "result.keys()"
   ]
  },
  {
   "cell_type": "code",
   "execution_count": 47,
   "id": "ba105a40-a02a-4328-a554-cbe6537a5dfa",
   "metadata": {},
   "outputs": [
    {
     "name": "stdout",
     "output_type": "stream",
     "text": [
      "response:  The sections of the document are: Our Business Governance, Our commitment to human rights, Ethics and compliance, Tax payments, Stakeholder engagement, Appendix, Awards and recognition, United Nations Sustainable Development Goals, and About the report.\n",
      "\n",
      "\n",
      "source:  {'page': 1, 'source': './gcs-bucket/reports/2021/2021_AAPL.pdf'}\n",
      "\n",
      "\n",
      "chat_hist:  [('which are defined targets?', 'The defined targets are:\\n\\n• Commitment to competitive minimum wage\\n• Support for Malala Fund\\n• Donations help to alleviate poverty\\n• End hunger, achieve food security \\nand improved nutrition and promote \\nsustainable agriculture\\n• Donations to food banks, soup kitchens, and meals on wheels\\n• Ensure healthy lives and promote \\nwell-being for all at all ages\\n• Support for product (RED)\\n• Our work to promote health\\n• Smarter chemistry  in our products\\n• Environmental, health, and safety practices at Apple  and at supplier facilities\\n• Build resilient infrastructure, promote \\ninclusive and sustainable industrialization \\nand foster innovation\\n• Job creation\\n• Commitment to combat the housing crisis in California\\n• Supplier Clean Energy Program\\n• Apple’s procurement and generation of 100% renewable energy for its facilities\\n• Apple’s R&D investments in and creation of new technology\\n• Apple’s goal to create carbon neutral products  made of only recycled or renewable materials\\n• Reduce inequality within and\\n\\n• Supplier diversity programs\\n• Support for Malala Fund\\n• Ensure availability and sustainable \\nmanagement of water and sanitation for all\\n• Apple’s water stewardship programs  at our\\xa0facilities and in our supply chain\\n• Apple’s Restore Fund  and support for ecosystem restoration and protection projects\\n• Responsible packaging initiatives\\n• Ensure access to affordable, reliable, \\nsustainable and modern energy for all\\n• 100% renewable energy  for Apple facilities\\n• Supplier Clean Energy Program\\n• Supplier Energy Efficiency Program\\n• Power for Impact program\\n\\n• Reduce inequality within and \\namong countries\\n• Inclusion and diversity at Apple\\n• Racial Equity and Justice Initiative\\n• Our commitment to a highly competitive wage\\n• Supplier diversity programs\\n• Training supplier employees on their rights  and for professional development\\n• Make cities and human settlements \\ninclusive, safe, resilient and sustainable\\n• Commitment to combat the housing crisis in California\\n• Ensure sustainable consumption and \\nproduction patterns\\n• Transitioning all materials in Apple’s products and packaging to recycled and renewable sources')]\n"
     ]
    }
   ],
   "source": [
    "print(\"response: \", result[\"answer\"])\n",
    "print(\"\\n\")\n",
    "print('source: ', result[\"source_documents\"][0].metadata)\n",
    "print(\"\\n\")\n",
    "print('chat_hist: ', result['chat_history'])"
   ]
  },
  {
   "cell_type": "code",
   "execution_count": 48,
   "id": "72b30e83-b26d-4489-a9d0-29f41b2354d8",
   "metadata": {},
   "outputs": [],
   "source": [
    "### checking chat history: keep earlier query-history in memory"
   ]
  },
  {
   "cell_type": "code",
   "execution_count": 49,
   "id": "e293e32b-efd7-4575-a743-915976e047ee",
   "metadata": {},
   "outputs": [],
   "source": [
    "chat_history = [(query, result[\"answer\"])]\n",
    "query = \"what is the title?\"\n",
    "result = qa_prompt_source({\"question\": query, \"chat_history\": chat_history})"
   ]
  },
  {
   "cell_type": "code",
   "execution_count": 50,
   "id": "586183ae-55fc-41c3-b1c6-198e96b86c59",
   "metadata": {},
   "outputs": [
    {
     "name": "stdout",
     "output_type": "stream",
     "text": [
      "response:  The title of the document is Apple's 2021 ESG Report.\n",
      "\n",
      "\n",
      "source:  {'page': 1, 'source': './gcs-bucket/reports/2021/2021_AAPL.pdf'}\n",
      "\n",
      "\n",
      "chat_hist:  [('which sections this document has?', 'The sections of the document are: Our Business Governance, Our commitment to human rights, Ethics and compliance, Tax payments, Stakeholder engagement, Appendix, Awards and recognition, United Nations Sustainable Development Goals, and About the report.')]\n"
     ]
    }
   ],
   "source": [
    "print(\"response: \", result[\"answer\"])\n",
    "print(\"\\n\")\n",
    "print('source: ', result[\"source_documents\"][0].metadata)\n",
    "print(\"\\n\")\n",
    "print('chat_hist: ', result['chat_history'])"
   ]
  },
  {
   "cell_type": "code",
   "execution_count": null,
   "id": "31bf91c5-ced6-43a5-9b46-c0243f6c60b4",
   "metadata": {},
   "outputs": [],
   "source": []
  },
  {
   "cell_type": "code",
   "execution_count": null,
   "id": "b978fc58-21fd-4d36-8c9e-9a58ff7301a4",
   "metadata": {},
   "outputs": [],
   "source": []
  },
  {
   "cell_type": "code",
   "execution_count": null,
   "id": "ac4135c5-ed5e-4580-9241-dbf315b0c01f",
   "metadata": {},
   "outputs": [],
   "source": []
  }
 ],
 "metadata": {
  "environment": {
   "kernel": "python3",
   "name": "tf2-cpu.2-11.m112",
   "type": "gcloud",
   "uri": "gcr.io/deeplearning-platform-release/tf2-cpu.2-11:m112"
  },
  "kernelspec": {
   "display_name": "Python 3",
   "language": "python",
   "name": "python3"
  },
  "language_info": {
   "codemirror_mode": {
    "name": "ipython",
    "version": 3
   },
   "file_extension": ".py",
   "mimetype": "text/x-python",
   "name": "python",
   "nbconvert_exporter": "python",
   "pygments_lexer": "ipython3",
   "version": "3.10.12"
  }
 },
 "nbformat": 4,
 "nbformat_minor": 5
}
